{
 "cells": [
  {
   "cell_type": "markdown",
   "metadata": {},
   "source": [
    "# Covid-19 Dashboard"
   ]
  },
  {
   "cell_type": "markdown",
   "metadata": {},
   "source": [
    "This is a Covid-19 dashboard that displays data about the amount of hospitalised Covid patients in England and which of those patients are on ventilators alongside the overall death rate. \n",
    "\n",
    "You can interact with the graph by highlighting the key with CTRL-Click and also view it logarithmically.\n",
    "\n",
    "All data has been extract from the UK Governmant and Public Health England"
   ]
  },
  {
   "cell_type": "code",
   "execution_count": 20,
   "metadata": {},
   "outputs": [],
   "source": [
    "#all necessary imports \n",
    "import ipywidgets as wdg\n",
    "import pandas as pd\n",
    "import numpy as np\n",
    "import matplotlib.pyplot as plt\n",
    "import json\n",
    "from uk_covid19 import Cov19API"
   ]
  },
  {
   "cell_type": "code",
   "execution_count": 21,
   "metadata": {},
   "outputs": [],
   "source": [
    "#filters and structures as per PHE dev kit\n",
    "filters = [\n",
    "    'areaType=nation',\n",
    "    'areaName=England'\n",
    "]\n",
    "\n",
    "structure = {\n",
    "    \"date\": \"date\",\n",
    "    \"ventilated\": \"covidOccupiedMVBeds\",\n",
    "    \"hospitalised\": \"hospitalCases\",\n",
    "    \"deaths\": \"cumDeaths28DaysByDeathDateRate\"\n",
    "}"
   ]
  },
  {
   "cell_type": "code",
   "execution_count": 23,
   "metadata": {},
   "outputs": [],
   "source": [
    "myapi = Cov19API(filters=filters, structure=structure)"
   ]
  },
  {
   "cell_type": "code",
   "execution_count": 24,
   "metadata": {},
   "outputs": [],
   "source": [
    "casesvbeds=myapi.get_json()"
   ]
  },
  {
   "cell_type": "code",
   "execution_count": 25,
   "metadata": {},
   "outputs": [],
   "source": [
    "with open(\"casesvbeds.json\", \"wt\") as OUTF:\n",
    "    json.dump(casesvbeds, OUTF)"
   ]
  },
  {
   "cell_type": "code",
   "execution_count": 26,
   "metadata": {},
   "outputs": [],
   "source": [
    "%matplotlib inline\n",
    "# make figures larger\n",
    "plt.rcParams['figure.dpi'] = 100"
   ]
  },
  {
   "cell_type": "code",
   "execution_count": 27,
   "metadata": {},
   "outputs": [],
   "source": [
    "with open(\"casesvbeds.json\", \"rt\") as INFILE:\n",
    "    data=json.load(INFILE)"
   ]
  },
  {
   "cell_type": "code",
   "execution_count": 28,
   "metadata": {},
   "outputs": [],
   "source": [
    "#creates dataframe\n",
    "datalist=data['data']\n",
    "\n",
    "dates=[dictionary['date'] for dictionary in datalist ]\n",
    "dates.sort()\n",
    "\n",
    "def parse_date(datestring):\n",
    "    \"\"\" Convert a date string into a pandas datetime object \"\"\"\n",
    "    return pd.to_datetime(datestring, format=\"%Y-%m-%d\")\n",
    "\n",
    "startdate=parse_date(dates[0])\n",
    "enddate=parse_date(dates[-1])"
   ]
  },
  {
   "cell_type": "code",
   "execution_count": 32,
   "metadata": {},
   "outputs": [],
   "source": [
    "#fills in dataframe\n",
    "index=pd.date_range(startdate, enddate, freq='D')\n",
    "casesvbedsf=pd.DataFrame(index=index, columns=['hospitalised', 'ventilated','deaths'])\n",
    "\n",
    "for entry in datalist: \n",
    "    date=parse_date(entry['date'])\n",
    "    for column in ['hospitalised', 'ventilated','deaths']:\n",
    "        if pd.isna(casesvbedsf.loc[date, column]):  \n",
    "            value= float(entry[column]) if entry[column]!=None else 0.0\n",
    "            casesvbedsf.loc[date, column]=value\n",
    "            \n",
    "casesvbedsf.fillna(0.0, inplace=True)"
   ]
  },
  {
   "cell_type": "code",
   "execution_count": 37,
   "metadata": {},
   "outputs": [],
   "source": [
    "casesvbedsf.to_pickle(\"casesvbeds.pkl\")"
   ]
  },
  {
   "cell_type": "code",
   "execution_count": 38,
   "metadata": {},
   "outputs": [],
   "source": [
    "#imports time data\n",
    "from datetime import datetime\n",
    "\n",
    "now = datetime.now()\n",
    "\n",
    "current_time = now.strftime(\"%H:%M:%S\")"
   ]
  },
  {
   "cell_type": "code",
   "execution_count": 39,
   "metadata": {},
   "outputs": [
    {
     "data": {
      "application/vnd.jupyter.widget-view+json": {
       "model_id": "29769b05681c46dd9b84b77cbe7078c9",
       "version_major": 2,
       "version_minor": 0
      },
      "text/plain": [
       "Button(description='Refresh data', icon='refresh', style=ButtonStyle(), tooltip='Click to download current Pub…"
      ]
     },
     "metadata": {},
     "output_type": "display_data"
    },
    {
     "data": {
      "application/vnd.jupyter.widget-view+json": {
       "model_id": "74783bb1554a42e59741e66bc62a29b8",
       "version_major": 2,
       "version_minor": 0
      },
      "text/plain": [
       "Output()"
      ]
     },
     "metadata": {},
     "output_type": "display_data"
    },
    {
     "name": "stdout",
     "output_type": "stream",
     "text": [
      "Last refreshed 15:58:02\n"
     ]
    }
   ],
   "source": [
    "#creates refresh button\n",
    "output=wdg.Output()\n",
    "\n",
    "@output.capture(clear_output=True, wait=True)\n",
    "def myapi(button):\n",
    "    global df\n",
    "    df=wrangle_data(myapi)\n",
    "    refresh_graph()\n",
    "    \n",
    "    myapi_refresh = datetime.datetime.now()\n",
    "    apibutton.icon=\"fa-refresh\"\n",
    "    \n",
    "\n",
    "    \n",
    "def myapi(button):\n",
    "    print(\"Last refreshed\", current_time)\n",
    "    \n",
    "apibutton=wdg.Button(\n",
    "    description='Refresh Data',\n",
    "    disabled=False,\n",
    "    button_style='',\n",
    "    tooltip='Click to download current Public Health England data',\n",
    "    icon='fa-refresh'\n",
    ")\n",
    "   \n",
    "display(apibutton)\n",
    "apibutton.on_click(myapi) \n",
    "output"
   ]
  },
  {
   "cell_type": "code",
   "execution_count": 40,
   "metadata": {},
   "outputs": [
    {
     "data": {
      "application/vnd.jupyter.widget-view+json": {
       "model_id": "01f37e931ca14d8ca5082e13b7b6e266",
       "version_major": 2,
       "version_minor": 0
      },
      "text/plain": [
       "HBox(children=(Output(), VBox(children=(SelectMultiple(description='Stats:', index=(0, 1, 2), options=('ventil…"
      ]
     },
     "metadata": {},
     "output_type": "display_data"
    }
   ],
   "source": [
    "#add control widgets to graph\n",
    "series=wdg.SelectMultiple(\n",
    "    options=['ventilated', 'hospitalised', 'deaths'],\n",
    "    value=['ventilated', 'hospitalised', 'deaths'],\n",
    "    rows=3,\n",
    "    description='Stats:',\n",
    "    disabled=False\n",
    ")\n",
    "\n",
    "scale=wdg.RadioButtons(\n",
    "    options=['linear', 'log'],description='Scale:',\n",
    "    disabled=False\n",
    ")\n",
    "\n",
    "controls=wdg.HBox([series, scale])\n",
    "\n",
    "def casesvbeds_graph(gcols, gscale):\n",
    "    if gscale=='linear':\n",
    "        logscale=False\n",
    "    else:\n",
    "        logscale=True\n",
    "    ncols=len(gcols)\n",
    "    if ncols>0:\n",
    "        casesvbedsf[list(gcols)].plot(logy=logscale)\n",
    "    else:\n",
    "        print(\"Click to select data for graph\")\n",
    "        print(\"(CTRL-Click to select more than one category)\")\n",
    "        \n",
    "graph=wdg.interactive_output(casesvbeds_graph, {'gcols': series, 'gscale': scale})\n",
    "ctrls=wdg.VBox([series, scale])\n",
    "form=wdg.HBox([graph, ctrls])\n",
    "\n",
    "display(form)\n",
    "\n"
   ]
  },
  {
   "cell_type": "code",
   "execution_count": 30,
   "metadata": {},
   "outputs": [],
   "source": [
    "# Load JSON files and store the raw data in some variable. Edit as appropriate\n",
    "casesvbeds={}"
   ]
  },
  {
   "cell_type": "markdown",
   "metadata": {},
   "source": [
    "**Author and Copyright Notice** Created by Richard De La Cruz (2020) *Based on UK Government [data](https://coronavirus.data.gov.uk/) published by [Public Health England](https://www.gov.uk/government/organisations/public-health-england).*"
   ]
  }
 ],
 "metadata": {
  "kernelspec": {
   "display_name": "Python 3",
   "language": "python",
   "name": "python3"
  },
  "language_info": {
   "codemirror_mode": {
    "name": "ipython",
    "version": 3
   },
   "file_extension": ".py",
   "mimetype": "text/x-python",
   "name": "python",
   "nbconvert_exporter": "python",
   "pygments_lexer": "ipython3",
   "version": "3.8.5"
  }
 },
 "nbformat": 4,
 "nbformat_minor": 4
}
