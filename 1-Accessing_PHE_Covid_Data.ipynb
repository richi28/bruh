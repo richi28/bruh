{
 "cells": [
  {
   "cell_type": "markdown",
   "metadata": {},
   "source": [
    "# Accessing PHE Covid Data"
   ]
  },
  {
   "cell_type": "markdown",
   "metadata": {},
   "source": [
    "[Public Health England](https://www.gov.uk/government/organisations/public-health-england) (PHE) is one of many Institutions worldwide running a Coronavirus [dashboard](https://coronavirus.data.gov.uk/), with current statistics on the pandemic. In this series of notebooks, we will guide you through creating your own simple dashboard based on PHE data and putting it online as a [Binder](https://mybinder.org/).\n",
    "\n",
    "You want to start by clicking on *Developer's<sup>1</sup> Guide* in the dashboard menu, which will take you straight to the  [API documentation](https://coronavirus.data.gov.uk/developers-guide). This will be your main source of information for this project, as far as the interaction with the PHE servers is concerned.\n",
    "\n",
    "<sup>1</sup> *Developer*: that's you!"
   ]
  },
  {
   "cell_type": "markdown",
   "metadata": {},
   "source": [
    "## The web-based API and the SDK"
   ]
  },
  {
   "cell_type": "markdown",
   "metadata": {},
   "source": [
    "Many websites support access to their underlying data through a web-based [Application Programming Interface](https://en.wikipedia.org/wiki/API) (an API for short). This is often based on the *http* protocol, and may involve the excange of information in [JSON format](https://en.wikipedia.org/wiki/JSON). Specifically, using a web-based API typically involves sending *http* requests with parameters conforming to a given schema to a dedicated URL (the API *endpoint*), to which the server responds with JSON content. All this is specified in the PHE [API documentation](https://coronavirus.data.gov.uk/developers-guide).\n",
    "\n",
    "As you can see from the documentation, PHE actually also offers a Python Software Devekopment Kit (SDK). This is a Python wrapper that facilitates access to the API by building the requests for you, forwarding them to the API access point and packaging the response into some convenient format. The PHE [Pyhton SDK](https://pypi.org/project/uk-covid19/) is found on the standard Python package repository, PyPi.\n",
    "\n",
    "The first step, therefore, consists in installing the Python SDK. This will depend on how you are accessing these matierials.\n",
    "\n",
    "* If you are working in a Binder: the SDK is already installed for you.\n",
    "* On the EECS JupyterHub: Save your notebooks and close them. Open a terminal and enter the following command (note the double minus ```--```):\n",
    "```\n",
    "pip install --user uk-covid19\n",
    "```\n",
    "you can then close the terminal (type ```exit``` and close the tab). Finally go to *Control Panel > Stop my Server*, start the server again and reopen your notebooks.\n",
    "* On your local machine: this depends on your setup. Entering this line in a command shell will hopefully work:\n",
    "```\n",
    "pip install uk-covid19\n",
    "```\n",
    "if it doesn't, try searching the documentation of your Python distribution or Google for instructions on how to install PiPy packages on your machine. \n",
    "\n",
    "If you have successfully  installed the SDK in your environment, the following cell should work:"
   ]
  },
  {
   "cell_type": "code",
   "execution_count": null,
   "metadata": {},
   "outputs": [],
   "source": [
    "# note the name of the module has an underscore in place of the -\n",
    "from uk_covid19 import Cov19API\n",
    "import json"
   ]
  },
  {
   "cell_type": "markdown",
   "metadata": {},
   "source": [
    "## Accessing the API through the SDK"
   ]
  },
  {
   "cell_type": "markdown",
   "metadata": {},
   "source": [
    "We are now ready to download data from the server via the SDK. Before continuing, you should have a look at the [SDK documentation](https://publichealthengland.github.io/coronavirus-dashboard-api-python-sdk/index.html), which will refer you to the general [API documentation](https://coronavirus.data.gov.uk/developers-guide) for the meaning of the main parameters. The examples below follow the documentation closely.\n",
    "\n",
    "According to the documentation, the first step is defining a [*filter*](https://publichealthengland.github.io/coronavirus-dashboard-api-python-sdk/pages/examples/general_use.html#filters) - this is a **list** specifiying an *areaType* parameter and an optional *areaName*, *areaCode* and *date* parameters. In the jargon of the documentation, these parameters are called *metrics* - check out the metrics allowed for filters [here](https://coronavirus.data.gov.uk/developers-guide#params-filters)."
   ]
  },
  {
   "cell_type": "code",
   "execution_count": null,
   "metadata": {},
   "outputs": [],
   "source": [
    "filters = [\n",
    "    'areaType=overview' # note each metric-value pair is inside one string\n",
    "]"
   ]
  },
  {
   "cell_type": "markdown",
   "metadata": {},
   "source": [
    "Next, you want do define a [*structure*](https://publichealthengland.github.io/coronavirus-dashboard-api-python-sdk/pages/examples/general_use.html#structure). According to the SDK ocumentation, this is a **dictionary** that specifies which data fields you want to request. In fact, looking at the API documentation for [structures](https://coronavirus.data.gov.uk/developers-guide#params-structure) shows that they do more: they also specify the \"format\" in which you want to receive the response. Read the documentation carefully, including the list of valid *metrics* for a *structure* (which is in fact the most important part).\n",
    "\n",
    "The structure below selects the metrics (that is, the PHE database fields) given as values of the dictionary, and at the same time instructs the API to rename the fields to the simpler names given as keys before serving them to us."
   ]
  },
  {
   "cell_type": "code",
   "execution_count": null,
   "metadata": {},
   "outputs": [],
   "source": [
    "# values here are the names of the PHE metrics\n",
    "structure = {\n",
    "    \"date\": \"date\",\n",
    "    \"cases\": \"newCasesByPublishDate\",\n",
    "    \"hospital\": \"newAdmissions\",\n",
    "    \"deaths\": \"cumDeaths28DaysByDeathDateRate\"    \n",
    "}"
   ]
  },
  {
   "cell_type": "markdown",
   "metadata": {},
   "source": [
    "**NOTE:** As of version 1.2.0 of the SDK, keys in the ```structure``` dictionary are apparently restricted to alphabet letters. Spaces, digits and underscores seem to cause the query to fail and should be avoided.\n",
    "\n",
    "Accessing the API is easy at this point. You just need to create a ```Cov19API``` object by passing the filters and structure to its constructor, as follows:"
   ]
  },
  {
   "cell_type": "code",
   "execution_count": null,
   "metadata": {},
   "outputs": [],
   "source": [
    "api = Cov19API(filters=filters, structure=structure)"
   ]
  },
  {
   "cell_type": "markdown",
   "metadata": {},
   "source": [
    "Finally, calling the ```get_json()``` method of the ```api``` object actually sends the request to the API and retrieves the response (theoretically) in JSON format."
   ]
  },
  {
   "cell_type": "code",
   "execution_count": null,
   "metadata": {},
   "outputs": [],
   "source": [
    "# NOTE: this call polls the server. It may fail in case of connectivity problems or if the data\n",
    "# are not available for any reason. It will also fail if the metric in the structure are not compatible\n",
    "# with the filters (eg they are not defined at the national or local level).\n",
    "timeseries=api.get_json()"
   ]
  },
  {
   "cell_type": "code",
   "execution_count": null,
   "metadata": {},
   "outputs": [],
   "source": [
    "print(timeseries)"
   ]
  },
  {
   "cell_type": "code",
   "execution_count": null,
   "metadata": {},
   "outputs": [],
   "source": [
    "print(type(timeseries)) # hold on, this is not JSON!"
   ]
  },
  {
   "cell_type": "markdown",
   "metadata": {},
   "source": [
    "As you can see, ```get_json()``` is a bit of a misnomer - the function actually returns a dictionary containing nested lists and dictionaries. As we will see this is not too different from what a JSON string looks like, but technically, this is something different. All the better for us, we don't need to decode it - but we may actually want to encode it, see below.\n",
    "\n",
    "Also, some entries contain a value of ```None```, we will asssume that stands for a ```0``` rather than for not available. In any case, by and large we got our data, so this is a success."
   ]
  },
  {
   "cell_type": "markdown",
   "metadata": {},
   "source": [
    "### Another example: Cases by gender and age\n",
    "\n",
    "The example above lends itself to visualisation as a plot of cases, hospital admissions and fatalities vs time. In this example, instead, we investigate the distribution of cases by sex and age bands; eventually, we will plot this as a bar chart.\n",
    "\n",
    "Again we define our *filters* and *structure*, but with different *metrics*, as follows: "
   ]
  },
  {
   "cell_type": "code",
   "execution_count": null,
   "metadata": {},
   "outputs": [],
   "source": [
    "filters = [\n",
    "    'areaType=nation',\n",
    "    'areaName=England'\n",
    "]\n",
    "\n",
    "\n",
    "# values here are the names of the PHE metrics\n",
    "structure = {\n",
    "    \"males\": \"maleCases\",\n",
    "    \"females\": \"femaleCases\"\n",
    "}"
   ]
  },
  {
   "cell_type": "markdown",
   "metadata": {},
   "source": [
    "The next two steps are standard:"
   ]
  },
  {
   "cell_type": "code",
   "execution_count": null,
   "metadata": {},
   "outputs": [],
   "source": [
    "api = Cov19API(filters=filters, structure=structure)"
   ]
  },
  {
   "cell_type": "code",
   "execution_count": null,
   "metadata": {},
   "outputs": [],
   "source": [
    "# NOTE: this call polls the server. It may fail in case of connectivity problems or if the data\n",
    "# are not available for any reason. It will also fail if the metric in the structure are not compatible\n",
    "# with the filters (eg they are not defined at the national or local level).\n",
    "agedistribution=api.get_json()"
   ]
  },
  {
   "cell_type": "code",
   "execution_count": null,
   "metadata": {},
   "outputs": [],
   "source": [
    "print(agedistribution)"
   ]
  },
  {
   "cell_type": "markdown",
   "metadata": {},
   "source": [
    "Again this is a dictionary and it does contain the data we expected. Note however how the formatting and the type of data depend, maybe unsurprisingly, on the specific *metric* we queried."
   ]
  },
  {
   "cell_type": "markdown",
   "metadata": {},
   "source": [
    "## Saving the data in JSON format"
   ]
  },
  {
   "cell_type": "markdown",
   "metadata": {},
   "source": [
    "At this point, we want to save the result of our API queries in order to \n",
    "* have something definite to work on in the other notebooks\n",
    "* eventually, give our dashboard some starting data.\n",
    "\n",
    "The problem arises of how to save these dictionaries to the disk. Luckily we do not have to save them in a bespoke way at this stage - we can use the [json module](https://docs.python.org/3/library/json.html) in the stardard library to dump them sa they are in [JSON format](https://en.wikipedia.org/wiki/JSON). This is straightforward:"
   ]
  },
  {
   "cell_type": "code",
   "execution_count": null,
   "metadata": {},
   "outputs": [],
   "source": [
    "import json"
   ]
  },
  {
   "cell_type": "code",
   "execution_count": null,
   "metadata": {},
   "outputs": [],
   "source": [
    "with open(\"timeseries.json\", \"wt\") as OUTF:\n",
    "    json.dump(timeseries, OUTF)"
   ]
  },
  {
   "cell_type": "code",
   "execution_count": null,
   "metadata": {},
   "outputs": [],
   "source": [
    "with open(\"agedistribution.json\", \"wt\") as OUTF:\n",
    "    json.dump(agedistribution, OUTF)"
   ]
  },
  {
   "cell_type": "markdown",
   "metadata": {},
   "source": [
    "If you now use a text editor (or the Jupyter Notebook interface), you will see that the content of the files closely resembles the tangle of dictionaries and lists we have seen above. However, technically, these are no longer Python dictionary and files, rather the JSON representation of them, and could be opened by another program written in another language, that will map them to an equivalent data structure (whichever is provided by that language)."
   ]
  },
  {
   "cell_type": "markdown",
   "metadata": {},
   "source": [
    "## Your turn"
   ]
  },
  {
   "cell_type": "markdown",
   "metadata": {},
   "source": [
    "Explore the various *metrics* available for [*filters*](https://coronavirus.data.gov.uk/developers-guide#params-filters) and [*structures*](https://coronavirus.data.gov.uk/developers-guide#params-structure) and think of a query that may be of interest to you, and how you might then want to visualise the data. You can modify either the *structure*, in order to select different types of data, or the *filters*, to specify a different granularity (national or local level, specific dates, etc). Possible graphs of interest might be:\n",
    "* a comparison of the number of test carried out with planned testing capacity;\n",
    "* a comparison of the number of new cases with the number of tests;\n",
    "* the above, broken down by region;\n",
    "* a comparison of the number of cases with hospital admissions;\n",
    "* a comparison of hospital admissions with ventilator bed occupancy;\n",
    "* new cases in major cities as a fraction of the population of those cities;\n",
    "* a comparison of the age distribution of new cases at different times (this will require more than one API access)\n",
    "\n",
    "Please keep in mind the following points:\n",
    "* Not all metrics are available for all dates, or at all levels of granularity; querying for data that's unavailable will result in an error.\n",
    "* Documentation is poor - welcome to the real world. A BSc in Reverse Engineering would come in handy.\n",
    "* Experimenting is fine. However, avoid flooding the server with multiple queries at machine speed - if you use a ```for``` loop to generate API accesses, use the ```sleep()``` function from the ```time``` module to introduce a 1 second delay between one query and the next (see [here](https://docs.python.org/3/library/time.html#time.sleep) for details). The last thing you want is for PHE to ban you.\n",
    "\n",
    "Once you succeed in retrieving the data you want, save them in JSON format and move on to the next stage - visualisation.\n",
    "\n",
    "\n",
    "**NOTE:** In the visualisation stage, we are going to load the data into a ```pandas.DataFrame``` structure. As you will see from the documentation, the SDK contains a method ```get_dataframe()``` that allows you to retrieve the data in the form of a ```DataFrame``` directly. From my tests, however, this method only works with certain *metrics*, and returns gibberish in other cases. I would therefore advise you to stick with JSON. In any case, JSON is a de-facto standard for APIs, and some familiarity with this format is a valuable skill in itself."
   ]
  },
  {
   "cell_type": "code",
   "execution_count": null,
   "metadata": {},
   "outputs": [],
   "source": []
  },
  {
   "cell_type": "markdown",
   "metadata": {},
   "source": [
    "**(C) 2020 Fabrizio Smeraldi** ([f.smeraldi@qmul.ac.uk](mailto:f.smeraldi@qmul.ac.uk) - [web](http://www.eecs.qmul.ac.uk/~fabri/)), all rights reserved."
   ]
  }
 ],
 "metadata": {
  "kernelspec": {
   "display_name": "Python 3",
   "language": "python",
   "name": "python3"
  },
  "language_info": {
   "codemirror_mode": {
    "name": "ipython",
    "version": 3
   },
   "file_extension": ".py",
   "mimetype": "text/x-python",
   "name": "python",
   "nbconvert_exporter": "python",
   "pygments_lexer": "ipython3",
   "version": "3.8.5"
  }
 },
 "nbformat": 4,
 "nbformat_minor": 4
}
