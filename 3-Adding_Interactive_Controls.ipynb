{
 "cells": [
  {
   "cell_type": "markdown",
   "metadata": {},
   "source": [
    "# Adding interactive controls"
   ]
  },
  {
   "cell_type": "markdown",
   "metadata": {},
   "source": [
    "We will be adding interactive controls to our graphs using the ```ipywidgets``` [library](https://ipywidgets.readthedocs.io/en/stable/index.html). This is basically a Graphical User Interface ([GUI](https://en.wikipedia.org/wiki/Graphical_user_interface)) library that runs in a notebook. Its control elements (so-called [widgets](https://en.wikipedia.org/wiki/Graphical_widget)) are actually an interface to [JavaScript](https://en.wikipedia.org/wiki/JavaScript) code that runs in your browser (in a stardard GUI library meant for desktop applications, they would be written in some low-level language and interface with the [window manager](https://en.wikipedia.org/wiki/Window_manager) on your computer). An in-depth treatment of GUIs is beyond the scope of this tutorial. However, I will strive to highlight concepts of general applicability and to use a clean syntax that highlights where the various elements fit in and may be easier to port to other GUI toolkits. If you are interested in learning more about (desktop-based) GUIs in Python, I strongly recommend the [appJar](http://appjar.info/) library - it is an excellent learning library and a great prototyping tool as well.\n",
    "\n",
    "The ```ipywidgets``` library is an integral part of the Jupyter framework and should therefore already be installed on any machine you are running this notebook on. If for some reason it isn't, follow these [instructions](https://ipywidgets.readthedocs.io/en/stable/user_install.html) to install it."
   ]
  },
  {
   "cell_type": "code",
   "execution_count": null,
   "metadata": {},
   "outputs": [],
   "source": [
    "import ipywidgets as wdg\n",
    "import pandas as pd\n",
    "import matplotlib.pyplot as plt"
   ]
  },
  {
   "cell_type": "code",
   "execution_count": null,
   "metadata": {},
   "outputs": [],
   "source": [
    "%matplotlib inline\n",
    "# make figures larger\n",
    "plt.rcParams['figure.dpi'] = 100"
   ]
  },
  {
   "cell_type": "markdown",
   "metadata": {},
   "source": [
    "## Updating your data\n",
    "\n",
    "It is a good idea to provide some data on the disk for your dashboard to start on - after all, the PHE website might be offline when someone accesses your dashboard; also, accessing the PHE website directly would make startup time longer. However, you can provide a button that the user can click to poll the API and refresh the data.\n",
    "\n",
    "The ```ipywidgets``` library provides a ```Button``` class that implements a [clickable button](https://ipywidgets.readthedocs.io/en/latest/examples/Widget%20List.html?highlight=button#Button). The way this is linked to your code is through a [callback function](https://en.wikipedia.org/wiki/Callback_(computer_programming)). This is a function that is passed as a parameter to the ```on_click``` method of the ```Button``` object, that in turn calls it when it is clicked. The callback function is passed the ```Button``` object itself as a parameter (which is useful if more than one button, for instance, shares the same callback). We can safely ignore that here.\n",
    "\n",
    "The call to ```display``` below actually draws the button on the notebook."
   ]
  },
  {
   "cell_type": "code",
   "execution_count": null,
   "metadata": {},
   "outputs": [],
   "source": [
    "# our API access function. This will be called by the button when it is clicked\n",
    "def access_api(button):\n",
    "    # Ignore the parameter, put code for polling the API here\n",
    "    print(\"I'm downloading data from the API...\")\n",
    "    print(\"...all done.\")\n",
    "    \n",
    "# see the doc for the parameters    \n",
    "apibutton=wdg.Button(\n",
    "    description='Refresh data',\n",
    "    disabled=False,\n",
    "    button_style='', # 'success', 'info', 'warning', 'danger' or ''\n",
    "    tooltip='Click to download current Public Health England data',\n",
    "    icon='download' # (FontAwesome names without the `fa-` prefix)\n",
    ")\n",
    "\n",
    "# register the callback function with the button\n",
    "apibutton.on_click(access_api)\n",
    "\n",
    "# this is an iPython function that generalises print for Jupyter Notebooks; we use it to \n",
    "# display the widgets\n",
    "display(apibutton)\n",
    "\n"
   ]
  },
  {
   "cell_type": "markdown",
   "metadata": {},
   "source": [
    "## Single-control graphs"
   ]
  },
  {
   "cell_type": "markdown",
   "metadata": {},
   "source": [
    "Adding an interactive control to a graph is not much more complicated. The control can be any of the many [widgets](https://ipywidgets.readthedocs.io/en/latest/examples/Widget%20List.html#) provided by ```iPywidgets```. Here we have chosen ```SelectMultiple``` that allows us to select the DataFrame columns to be plotted in the Age Distribution graphs - namely, any combination of the *males*, *females* or *total* columns (see the [doc](https://ipywidgets.readthedocs.io/en/latest/examples/Widget%20List.html#SelectMultiple)).\n",
    "\n",
    "Again, ```SelectMultiple``` makes use of a callback, that gets passed the list of options that have been selected. Each time the selection is changed, the callback function is called again. The way the callback is registered with the widget is slightly different: the callback (here ```age_graph```) must take a list parameter (the list of columns). We then pass the callback to ```interactive_output```, together with a dictionary that specifies which widget (```agecols```) must provide a value for the callback parameter (```graphcolumns```). Basically, the ```iPywidget``` framework  calls ```age_graph``` with the values retrieved from the widget after each user interaction.  The value of ```interactive_output``` is an ```Output``` widget (see the [doc](https://ipywidgets.readthedocs.io/en/latest/examples/Output%20Widget.html)), that can be assigned to a variable and passed to ```display``` together with the ```agecols``` widget itself. Any printout, graph or other output of the callback ```age_graph``` is captured and displayed through that ```Output``` widget, that renders it in the browser."
   ]
  },
  {
   "cell_type": "code",
   "execution_count": null,
   "metadata": {},
   "outputs": [],
   "source": [
    "# in the dashboard, this will be the dataframe that's computed directly from the json files,\n",
    "# or from the current data downloaded from the API\n",
    "age_df=pd.read_pickle(\"agedf.pkl\")"
   ]
  },
  {
   "cell_type": "code",
   "execution_count": null,
   "metadata": {},
   "outputs": [],
   "source": [
    "agecols=wdg.SelectMultiple(\n",
    "    options=['males', 'females', 'total'], # options available\n",
    "    value=['males', 'females'], # initial value\n",
    "    rows=3, # rows of the selection box\n",
    "    description='Sex',\n",
    "    disabled=False\n",
    ")\n",
    "\n",
    "def age_graph(graphcolumns):\n",
    "    # our callback function.\n",
    "    ncols=len(graphcolumns)\n",
    "    if ncols>0:\n",
    "        age_df.plot(kind='bar', y=list(graphcolumns)) # graphcolumns is a tuple - we need a list\n",
    "    else:\n",
    "        # if the user has not selected any column, print a message instead\n",
    "        print(\"Click to select data for graph\")\n",
    "        print(\"(CTRL-Click to select more than one category)\")\n",
    "    \n",
    "# keep calling age_graph(graphcolumns=value_of_agecols); capture output in variable output    \n",
    "output=wdg.interactive_output(age_graph, {'graphcolumns': agecols})\n",
    "\n",
    "display(agecols, output)"
   ]
  },
  {
   "cell_type": "markdown",
   "metadata": {},
   "source": [
    "## Multiple-control graphs"
   ]
  },
  {
   "cell_type": "markdown",
   "metadata": {},
   "source": [
    "In the time series graph, we may want to add a couple of controls - one for selecting the stats to display, and the other to choose between an linear and logarithmic scale. This second choice we can implement with a ```RadioButtons``` widget ([documentation](https://ipywidgets.readthedocs.io/en/latest/examples/Widget%20List.html#RadioButtons)). This widget returns a Boolean value (```True``` or ```False```) to the callback function. The callback (in our case ```timeseries_graph```) must then accept two parameteres,  a tuple of stats coming from the ```SelectMultiple``` widget and the Boolean value from the ```RadioButtons```. Again, the ```interactive_output``` function associates the widgets with the callback and captures the output in an ```Output``` widget.\n",
    "\n",
    "The new element in this example is the [container widget](https://ipywidgets.readthedocs.io/en/latest/examples/Widget%20List.html#Container/Layout-widgets) ```HBox```. Container widgets are another feature shared by most GUI toolkits; they are used to group  and arrange other widgets on the interface."
   ]
  },
  {
   "cell_type": "code",
   "execution_count": null,
   "metadata": {},
   "outputs": [],
   "source": [
    "# in the dashboard, this should be computed from the json files\n",
    "timeseriesdf=pd.read_pickle(\"timeseriesdf.pkl\")"
   ]
  },
  {
   "cell_type": "code",
   "execution_count": null,
   "metadata": {},
   "outputs": [],
   "source": [
    "series=wdg.SelectMultiple(\n",
    "    options=['cases', 'hospital', 'deaths'],\n",
    "    value=['cases', 'hospital', 'deaths'],\n",
    "    rows=3,\n",
    "    description='Stats:',\n",
    "    disabled=False\n",
    ")\n",
    "\n",
    "scale=wdg.RadioButtons(\n",
    "    options=['linear', 'log'],\n",
    "#    value='pineapple', # Defaults to 'pineapple'\n",
    "#    layout={'width': 'max-content'}, # If the items' names are long\n",
    "    description='Scale:',\n",
    "    disabled=False\n",
    ")\n",
    "\n",
    "# try replacing HBox with a VBox\n",
    "controls=wdg.HBox([series, scale])\n",
    "\n",
    "def timeseries_graph(gcols, gscale):\n",
    "    if gscale=='linear':\n",
    "        logscale=False\n",
    "    else:\n",
    "        logscale=True\n",
    "    ncols=len(gcols)\n",
    "    if ncols>0:\n",
    "        timeseriesdf[list(gcols)].plot(logy=logscale)\n",
    "    else:\n",
    "        print(\"Click to select data for graph\")\n",
    "        print(\"(CTRL-Click to select more than one category)\")\n",
    "\n",
    "# keep calling timeseries_graph(gcols=value_of_series, gscale=value_of_scale); capture output in variable graph   \n",
    "graph=wdg.interactive_output(timeseries_graph, {'gcols': series, 'gscale': scale})\n",
    "\n",
    "display(controls, graph)"
   ]
  },
  {
   "cell_type": "markdown",
   "metadata": {},
   "source": [
    "Note how the ```HBox``` widget allows us to display the two control widgets side by side. Containers can be nested, so for instance an ```HBox``` can contain a ```VBox```. Since ```graph``` is also a widget (in fact, an ```Output``` widget), this allows us to be more adventurous and explore more advanced layouts:"
   ]
  },
  {
   "cell_type": "code",
   "execution_count": null,
   "metadata": {},
   "outputs": [],
   "source": [
    "# stack series and scale on top of each other\n",
    "ctrls=wdg.VBox([series, scale])\n",
    "# put the graph and the controls side by side\n",
    "form=wdg.HBox([graph, ctrls])\n",
    "\n",
    "# Now form contains the entire interface\n",
    "display(form)"
   ]
  },
  {
   "cell_type": "markdown",
   "metadata": {},
   "source": [
    "Note that since, in this case, we are re-using the same widgets (that are simply re-drawn in a different layout), the two graphs and the controls are exact copies of each other and cannot be modified independently - changing one copy will change the other. The detailed [layout of widgets](https://ipywidgets.readthedocs.io/en/latest/examples/Widget%20Styling.html) is an intricate topic that goes beyond the scope of this tutorial. "
   ]
  },
  {
   "cell_type": "markdown",
   "metadata": {},
   "source": [
    "## Your turn\n",
    "\n",
    "Load the *pickle* file with the ```DataFrame``` you saved at the end of the previous notebook and add interactive controls to your graph. You can pick one of more widgets from this [list](https://ipywidgets.readthedocs.io/en/latest/examples/Widget%20List.html), including any containers if required. I recommend that, at least initially, you stick with what is simple and just works."
   ]
  },
  {
   "cell_type": "code",
   "execution_count": null,
   "metadata": {},
   "outputs": [],
   "source": []
  },
  {
   "cell_type": "markdown",
   "metadata": {},
   "source": [
    "**(C) 2020 Fabrizio Smeraldi** ([f.smeraldi@qmul.ac.uk](mailto:f.smeraldi@qmul.ac.uk) - [web](http://www.eecs.qmul.ac.uk/~fabri/)), all rights reserved."
   ]
  }
 ],
 "metadata": {
  "kernelspec": {
   "display_name": "Python 3",
   "language": "python",
   "name": "python3"
  },
  "language_info": {
   "codemirror_mode": {
    "name": "ipython",
    "version": 3
   },
   "file_extension": ".py",
   "mimetype": "text/x-python",
   "name": "python",
   "nbconvert_exporter": "python",
   "pygments_lexer": "ipython3",
   "version": "3.8.5"
  }
 },
 "nbformat": 4,
 "nbformat_minor": 4
}
